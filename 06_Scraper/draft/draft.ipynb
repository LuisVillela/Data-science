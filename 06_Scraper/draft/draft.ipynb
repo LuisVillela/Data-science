{
 "cells": [
  {
   "cell_type": "code",
   "execution_count": 1,
   "metadata": {},
   "outputs": [],
   "source": [
    "from bs4 import BeautifulSoup\n",
    "import requests"
   ]
  },
  {
   "cell_type": "markdown",
   "metadata": {},
   "source": [
    "### Extract properties urls from page\n",
    "---"
   ]
  },
  {
   "cell_type": "code",
   "execution_count": 2,
   "metadata": {},
   "outputs": [],
   "source": [
    "url = \"https://mapainmueble.com/apartamentos-en-alquiler-zona-14/\""
   ]
  },
  {
   "cell_type": "code",
   "execution_count": 3,
   "metadata": {},
   "outputs": [],
   "source": [
    "req = requests.get(url)\n",
    "soup = BeautifulSoup(req.text)"
   ]
  },
  {
   "cell_type": "code",
   "execution_count": 4,
   "metadata": {},
   "outputs": [
    {
     "name": "stdout",
     "output_type": "stream",
     "text": [
      "https://mapainmueble.com/properties/renta-de-apartamento-en-zona-14-santa-ines-del-parque-de-2-dormitorios-daa43462/\n",
      "https://mapainmueble.com/properties/apartamento-en-alquiler-zona-14-santa-ines-del-parque-daa42948/\n",
      "https://mapainmueble.com/properties/apartamento-en-alquiler-zona-14-santa-ines-de-3-habitaciones-amueblado-daa42144/\n",
      "https://mapainmueble.com/properties/apartamento-en-alquiler-santa-ines-zona-14-amueblado-de-3-dormitorios-daa41616/\n",
      "https://mapainmueble.com/properties/alquiler-apartamento-zona-14-para-estrenar-daa36605/\n",
      "https://mapainmueble.com/properties/apartamento-en-alquiler-en-terradelfines-zona-14-daa43763/\n",
      "https://mapainmueble.com/properties/apartamento-amueblado-en-alquiler-tiffany-quinta-zona-14-daa43758/\n",
      "https://mapainmueble.com/properties/apartamento-en-renta-zona-14-la-villa-vila-catorce-daa43756/\n",
      "https://mapainmueble.com/properties/hermoso-apartamento-en-alquiler-casa-once-zona-14-caa13556/\n"
     ]
    }
   ],
   "source": [
    "property_links = soup.find_all('h4')\n",
    "\n",
    "# Find all <h4> tags and extract the href from the <a> inside them\n",
    "property_urls = [h4.a[\"href\"] for h4 in soup.find_all(\"h4\") if h4.a]\n",
    "\n",
    "# Keep only the first 9 URLs\n",
    "property_urls = property_urls[:9]\n",
    "\n",
    "# Print the cleaned URLs\n",
    "for url in property_urls:\n",
    "    print(url)"
   ]
  },
  {
   "cell_type": "code",
   "execution_count": 5,
   "metadata": {},
   "outputs": [
    {
     "data": {
      "text/plain": [
       "9"
      ]
     },
     "execution_count": 5,
     "metadata": {},
     "output_type": "execute_result"
    }
   ],
   "source": [
    "len(property_urls)"
   ]
  },
  {
   "cell_type": "markdown",
   "metadata": {},
   "source": [
    "### Extract details from specific property url\n",
    "---"
   ]
  },
  {
   "cell_type": "code",
   "execution_count": 6,
   "metadata": {},
   "outputs": [],
   "source": [
    "url_prop = \"https://mapainmueble.com/properties/renta-de-apartamento-en-zona-14-santa-ines-del-parque-de-2-dormitorios-daa43462/\"\n",
    "\n",
    "\n",
    "url_prop = 'https://mapainmueble.com/properties/alquiler-apartamento-zona-14-para-estrenar-daa36605/'\n",
    "req = requests.get(url_prop)\n",
    "soup = BeautifulSoup(req.text)"
   ]
  },
  {
   "cell_type": "code",
   "execution_count": 7,
   "metadata": {},
   "outputs": [],
   "source": [
    "def extract_property_details(html_content):\n",
    "    # soup = BeautifulSoup(html_content, 'html.parser')\n",
    "    soup = html_content\n",
    "    # Initialize the dictionary to store the extracted data\n",
    "    property_details = {}\n",
    "    \n",
    "    # a = soup.find('h4', id='prop_det')\n",
    "    # print(a)\n",
    "\n",
    "    # Extract \"Detalles\" section\n",
    "    detalles_header = soup.find('h4', id='prop_det')\n",
    "    if detalles_header:\n",
    "        detalles_section = detalles_header.find_next('div', class_='panel-body')\n",
    "        # print(detalles_section)\n",
    "        if detalles_section:\n",
    "            for detail in detalles_section.find_all('div', class_='listing_detail'):\n",
    "                # print(detail)\n",
    "                key = detail.find('strong').text.strip(':')\n",
    "                # print(key)\n",
    "                value = detail.text.replace(key, '').strip(':').strip()\n",
    "                # print(value)\n",
    "                property_details[key] = value\n",
    "    \n",
    "    return property_details"
   ]
  },
  {
   "cell_type": "code",
   "execution_count": 8,
   "metadata": {},
   "outputs": [
    {
     "name": "stdout",
     "output_type": "stream",
     "text": [
      "{'Precio': '$ 1,700 0', 'Tamaño de la propiedad': '75 m2', 'Tamaño del lote del Inmueble': '10 m2', 'Parqueos': '2', 'Dormitorios': '2', 'Baños': '2', 'ID de la propiedad': 'DAA36605'}\n"
     ]
    }
   ],
   "source": [
    "details = extract_property_details(soup)\n",
    "print(details)"
   ]
  },
  {
   "cell_type": "markdown",
   "metadata": {},
   "source": [
    "### Multiple pages - extract urls\n",
    "---"
   ]
  },
  {
   "cell_type": "code",
   "execution_count": 9,
   "metadata": {},
   "outputs": [],
   "source": [
    "# URL página 2 en adelante:\n",
    "\n",
    "# https://mapainmueble.com/apartamentos-en-alquiler-zona-14/page/2/\n",
    "\n",
    "# Funciona para page=1"
   ]
  },
  {
   "cell_type": "code",
   "execution_count": 10,
   "metadata": {},
   "outputs": [
    {
     "name": "stdout",
     "output_type": "stream",
     "text": [
      "https://mapainmueble.com/apartamentos-en-alquiler-zona-14/page/2/\n"
     ]
    }
   ],
   "source": [
    "page_number = 2\n",
    "\n",
    "base_url = f'https://mapainmueble.com/apartamentos-en-alquiler-zona-14/page/{page_number}/'\n",
    "print(base_url)"
   ]
  },
  {
   "cell_type": "code",
   "execution_count": 11,
   "metadata": {},
   "outputs": [
    {
     "name": "stdout",
     "output_type": "stream",
     "text": [
      "9\n"
     ]
    }
   ],
   "source": [
    "''' Function to get 9 properties out of one page '''\n",
    "\n",
    "def get_properties_urls(page_url):\n",
    "\n",
    "    req = requests.get(page_url)\n",
    "    soup = BeautifulSoup(req.text)\n",
    "\n",
    "    # properties = soup.find_all('h4')\n",
    "    properties_urls = [h4.a[\"href\"] for h4 in soup.find_all(\"h4\") if h4.a]\n",
    "    return properties_urls\n",
    "\n",
    "res = get_properties_urls('https://mapainmueble.com/apartamentos-en-alquiler-zona-14/page/1/')\n",
    "print(len(res))"
   ]
  },
  {
   "cell_type": "code",
   "execution_count": 12,
   "metadata": {},
   "outputs": [
    {
     "data": {
      "text/plain": [
       "['https://mapainmueble.com/properties/renta-de-apartamento-en-zona-14-santa-ines-del-parque-de-2-dormitorios-daa43462/',\n",
       " 'https://mapainmueble.com/properties/apartamento-en-alquiler-zona-14-santa-ines-del-parque-daa42948/',\n",
       " 'https://mapainmueble.com/properties/apartamento-en-alquiler-zona-14-santa-ines-de-3-habitaciones-amueblado-daa42144/',\n",
       " 'https://mapainmueble.com/properties/apartamento-en-alquiler-santa-ines-zona-14-amueblado-de-3-dormitorios-daa41616/',\n",
       " 'https://mapainmueble.com/properties/alquiler-apartamento-zona-14-para-estrenar-daa36605/',\n",
       " 'https://mapainmueble.com/properties/apartamento-en-alquiler-en-terradelfines-zona-14-daa43763/',\n",
       " 'https://mapainmueble.com/properties/apartamento-amueblado-en-alquiler-tiffany-quinta-zona-14-daa43758/',\n",
       " 'https://mapainmueble.com/properties/apartamento-en-renta-zona-14-la-villa-vila-catorce-daa43756/',\n",
       " 'https://mapainmueble.com/properties/hermoso-apartamento-en-alquiler-casa-once-zona-14-caa13556/']"
      ]
     },
     "execution_count": 12,
     "metadata": {},
     "output_type": "execute_result"
    }
   ],
   "source": [
    "res"
   ]
  },
  {
   "cell_type": "markdown",
   "metadata": {},
   "source": [
    "---"
   ]
  }
 ],
 "metadata": {
  "kernelspec": {
   "display_name": "Python 3",
   "language": "python",
   "name": "python3"
  },
  "language_info": {
   "codemirror_mode": {
    "name": "ipython",
    "version": 3
   },
   "file_extension": ".py",
   "mimetype": "text/x-python",
   "name": "python",
   "nbconvert_exporter": "python",
   "pygments_lexer": "ipython3",
   "version": "3.13.0"
  }
 },
 "nbformat": 4,
 "nbformat_minor": 2
}
