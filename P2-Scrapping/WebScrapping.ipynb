{
 "cells": [
  {
   "cell_type": "markdown",
   "metadata": {},
   "source": [
    "# Web Scraping de Casas en Venta en Zona 10\n",
    "\n",
    "## Descripción\n",
    "Este proyecto realiza **web scraping** en la página de Mapainmueble para extraer información detallada de las propiedades en venta en la **Zona 10, Guatemala**."
   ]
  },
  {
   "cell_type": "markdown",
   "metadata": {},
   "source": [
    "### Importamos Librerias\n",
    "\n",
    "- requests\n",
    "- BS4\n",
    "- pandas\n"
   ]
  },
  {
   "cell_type": "code",
   "execution_count": 1,
   "metadata": {},
   "outputs": [
    {
     "name": "stdout",
     "output_type": "stream",
     "text": [
      "Librerías instaladas correctamente\n"
     ]
    }
   ],
   "source": [
    "import requests\n",
    "from bs4 import BeautifulSoup\n",
    "import pandas as pd\n",
    "\n",
    "print(\"Librerías instaladas correctamente\")\n"
   ]
  },
  {
   "cell_type": "markdown",
   "metadata": {},
   "source": [
    "### Status\n",
    "- Revisamos el estatus de la pagina y que realmente estamos tratando con HTML para hacer el scrapping estatico con BS4."
   ]
  },
  {
   "cell_type": "code",
   "execution_count": 42,
   "metadata": {},
   "outputs": [
    {
     "name": "stdout",
     "output_type": "stream",
     "text": [
      "Status Code: 200\n"
     ]
    }
   ],
   "source": [
    "import requests\n",
    "\n",
    "URL = \"https://mapainmueble.com/casas-en-venta-zona-10/\"\n",
    "\n",
    "print(f\"Status Code: {response.status_code}\")\n"
   ]
  },
  {
   "cell_type": "markdown",
   "metadata": {},
   "source": [
    "### Scrappping code\n"
   ]
  },
  {
   "cell_type": "code",
   "execution_count": 41,
   "metadata": {},
   "outputs": [
    {
     "name": "stdout",
     "output_type": "stream",
     "text": [
      "Scrapeando página 1...\n",
      "Scrapeando página 2...\n",
      "Scrapeando página 3...\n",
      "    Título                   Precio           Ubicación Habitaciones Baños  \\\n",
      "0  Zona 10  $ 850,000 Más impuestos  Zona 10, Guatemala            4   4.5   \n",
      "1  Zona 10    $ 420,000 negociables  Zona 10, Guatemala            4   3.5   \n",
      "2  Zona 10              $ 1,200,000  Zona 10, Guatemala            4   2.5   \n",
      "3  Zona 10                $ 330,000  Zona 10, Guatemala            3   2.5   \n",
      "4  Zona 10                $ 980,000  Zona 10, Guatemala            4   4.5   \n",
      "\n",
      "  Metros Cuadrados                   Inmobiliaria  \\\n",
      "0              482             GIEKA INMOBILIARIA   \n",
      "1              250  Sarissa Asesoria Inmobiliaria   \n",
      "2              363            Juan Carlos Ramirez   \n",
      "3              200          Ambiente Inmobiliario   \n",
      "4             None                       M2 Guate   \n",
      "\n",
      "                                      URL  \n",
      "0  https://mapainmueble.com/area/zona-10/  \n",
      "1  https://mapainmueble.com/area/zona-10/  \n",
      "2  https://mapainmueble.com/area/zona-10/  \n",
      "3  https://mapainmueble.com/area/zona-10/  \n",
      "4  https://mapainmueble.com/area/zona-10/  \n"
     ]
    }
   ],
   "source": [
    "import requests\n",
    "from bs4 import BeautifulSoup\n",
    "import pandas as pd\n",
    "import re  # Para limpieza de datos\n",
    "\n",
    "# Base URL para la paginación\n",
    "BASE_URL = \"https://mapainmueble.com/casas-en-venta-zona-10/\"\n",
    "headers = {\"User-Agent\": \"Mozilla/5.0\"}\n",
    "\n",
    "data = []  # Lista para almacenar todas las propiedades\n",
    "\n",
    "# Iterar sobre las páginas (ajustar si hay más de 3 páginas)\n",
    "for page in range(1, 4):  \n",
    "    print(f\"Scrapeando página {page}...\")\n",
    "    url = f\"{BASE_URL}page/{page}/\" if page > 1 else BASE_URL\n",
    "    response = requests.get(url, headers=headers)\n",
    "\n",
    "    if response.status_code == 200:\n",
    "        soup = BeautifulSoup(response.text, \"html.parser\")\n",
    "        propiedades = soup.find_all(\"div\", class_=\"property_listing property_card_default\")\n",
    "\n",
    "        for prop in propiedades:\n",
    "            try:\n",
    "                titulo = prop.find(\"a\").text.strip()\n",
    "            except AttributeError:\n",
    "                titulo = None\n",
    "\n",
    "            # Extraer precio correctamente\n",
    "            try:\n",
    "                precio = prop.find(\"div\", class_=\"listing_unit_price_wrapper\").text.strip().split(\"\\n\")[0]\n",
    "            except AttributeError:\n",
    "                precio = None\n",
    "\n",
    "            try:\n",
    "                ubicacion = \"Zona 10, Guatemala\"\n",
    "            except AttributeError:\n",
    "                ubicacion = None\n",
    "\n",
    "            try:\n",
    "                habitaciones = prop.find(\"span\", class_=\"inforoom\").text.strip()\n",
    "            except AttributeError:\n",
    "                habitaciones = None\n",
    "\n",
    "            try:\n",
    "                baños = prop.find(\"span\", class_=\"infobath\").text.strip()\n",
    "            except AttributeError:\n",
    "                baños = None\n",
    "\n",
    "            try:\n",
    "                metros_cuadrados = prop.find(\"span\", class_=\"infosize\").text.strip().split(\" \")[0]\n",
    "            except AttributeError:\n",
    "                metros_cuadrados = None\n",
    "\n",
    "            try:\n",
    "                url_propiedad = prop.find(\"a\")[\"href\"]\n",
    "            except AttributeError:\n",
    "                url_propiedad = None\n",
    "\n",
    "            try:\n",
    "                inmobiliaria = prop.find(\"div\", class_=\"property_agent_wrapper\").find(\"a\").text.strip()\n",
    "            except AttributeError:\n",
    "                inmobiliaria = None\n",
    "\n",
    "            # Agregar datos a la lista\n",
    "            data.append([titulo, precio, ubicacion, habitaciones, baños, metros_cuadrados, inmobiliaria, url_propiedad])\n",
    "\n",
    "    else:\n",
    "        print(f\"Error al acceder a la página {page}: {response.status_code}\")\n",
    "\n",
    "# Convertir a DataFrame\n",
    "df = pd.DataFrame(data, columns=[\"Título\", \"Precio\", \"Ubicación\", \"Habitaciones\", \"Baños\", \"Metros Cuadrados\", \"Inmobiliaria\", \"URL\"])\n",
    "\n",
    "# Guardar en CSV\n",
    "df.to_csv(\"casas_zona_10_final.csv\", index=False)\n",
    "\n",
    "# Mostrar las primeras filas del DataFrame\n",
    "print(df.head())\n"
   ]
  }
 ],
 "metadata": {
  "kernelspec": {
   "display_name": "myenv",
   "language": "python",
   "name": "python3"
  },
  "language_info": {
   "codemirror_mode": {
    "name": "ipython",
    "version": 3
   },
   "file_extension": ".py",
   "mimetype": "text/x-python",
   "name": "python",
   "nbconvert_exporter": "python",
   "pygments_lexer": "ipython3",
   "version": "3.13.1"
  }
 },
 "nbformat": 4,
 "nbformat_minor": 2
}
